{
 "cells": [
  {
   "cell_type": "markdown",
   "metadata": {},
   "source": [
    "# Soru 1"
   ]
  },
  {
   "cell_type": "markdown",
   "metadata": {},
   "source": [
    "I declared graph as a dictionary in python. Keys are \"from\" , values are \"to\".\n",
    "i used pandas library to read excel file. It gave a pandas dataframe ,i transformed dataframe to list.\n",
    "Filled a pair list called keys and values.So, graph was built from keys and values.\n",
    "\n",
    "Implemented standart revursive BFS and DFS but set , data structure, is helpfull because it's relieve of boolean visited array.\n",
    "\n",
    "Time complexity of both BFS and DFS O(V+E),where V is the number of vertices , and E is the number of edges."
   ]
  },
  {
   "cell_type": "code",
   "execution_count": 1,
   "metadata": {},
   "outputs": [],
   "source": [
    "import pandas as pd\n",
    "dt = pd.read_excel(\"Graph_data.XLS\")\n",
    "g = dt.values.tolist()\n",
    "root = list(dt)[1]\n",
    "g = g[2:]\n",
    "keys = []\n",
    "values = []\n",
    "for item in g:\n",
    "\tif item[0] not in keys:\n",
    "\t\tkeys.append(item[0])\n",
    "\t\ttemp = []\n",
    "\t\ttemp.append(item[1])\n",
    "\t\tvalues.append(temp)\n",
    "\telse:\n",
    "\t\tindex = keys.index(item[0])\n",
    "\t\tvalues[index].append(item[1])"
   ]
  },
  {
   "cell_type": "markdown",
   "metadata": {},
   "source": [
    "Fiils root , keys and values from excel"
   ]
  },
  {
   "cell_type": "code",
   "execution_count": 2,
   "metadata": {},
   "outputs": [],
   "source": [
    "def dfs(graph, start,output=None,visited=None):\n",
    "\tif visited is None:\n",
    "\t\tvisited = set()\n",
    "\tif output is None:\n",
    "\t\toutput = []\n",
    "\tif (start in visited) == False:\n",
    "\t\toutput.append(start)\n",
    "\tvisited.add(start)\n",
    "\tif start in graph:\n",
    "\t\tfor next in graph[start] - visited:\n",
    "\t\t\tdfs(graph, next, output,visited)\n",
    "\treturn output"
   ]
  },
  {
   "cell_type": "raw",
   "metadata": {},
   "source": [
    "dfs inputs : graph as a dictionary\n",
    "             start as a integer.It means where to graph start traversal\n",
    "             output as a list. Output of traversal .Default None\n",
    "             visited as a set.It holds visited nodes.Set used substituted for boolean list.Default None"
   ]
  },
  {
   "cell_type": "code",
   "execution_count": 3,
   "metadata": {},
   "outputs": [],
   "source": [
    "def bfs(graph, start,queue=None ,output=None,visited=None):\n",
    "\tif visited is None:\n",
    "\t\tvisited = set()\n",
    "\tif queue is None:\n",
    "\t\tqueue = []\n",
    "\tif output is None:\n",
    "\t\toutput = []\n",
    "\tif (start in visited) == False:\n",
    "\t\tqueue.insert(0,start)\n",
    "\t\tvisited.add(start)\n",
    "\t\tv = queue.pop(0)\n",
    "\t\t\n",
    "\t\toutput.append(v)\n",
    "\t\tif v in graph:\n",
    "\t\t\tfor next in graph[v] - visited:\n",
    "\t\t\t\tqueue.append(next)\n",
    "\tif len(queue) > 0:\n",
    "\t\tv = queue.pop(0)\n",
    "\t\tbfs(graph, v, queue,output,visited)\n",
    "\treturn output\n"
   ]
  },
  {
   "cell_type": "raw",
   "metadata": {},
   "source": [
    "bfs inputs : graph as a dictionary \n",
    "            start as a integer.It means where to graph start traversal.\n",
    "            queue as a list. It holds queue to traverse next node\n",
    "            output as a list. Output of traversal .Default None.\n",
    "            visited as a set.It holds visited nodes.Set used substituted for boolean list.Default None."
   ]
  },
  {
   "cell_type": "code",
   "execution_count": 4,
   "metadata": {},
   "outputs": [],
   "source": [
    "def printFormated(liste):\n",
    "\tfor i in range(0,len(liste)):\n",
    "\t\tif i == len(liste)-1:\n",
    "\t\t\tprint(liste[i])\n",
    "\t\telse:\n",
    "\t\t\tprint(liste[i],\"-> \",end='')"
   ]
  },
  {
   "cell_type": "raw",
   "metadata": {},
   "source": [
    "printFormated inputs: liste as a list.\n",
    "This method prints a formatted screen output. It puts arrow (->) between elements of list"
   ]
  },
  {
   "cell_type": "code",
   "execution_count": 5,
   "metadata": {},
   "outputs": [],
   "source": [
    "graph = {}\n",
    "i = 0 \n",
    "for i in range(0,len(keys)):\n",
    "\tloopSet = set()\n",
    "\tfor item in values[i]:\n",
    "\t\tloopSet.add(item)\n",
    "\tgraph[keys[i]] = loopSet\n"
   ]
  },
  {
   "cell_type": "raw",
   "metadata": {},
   "source": [
    "This code is building graph. In the for loop , keys and values are adding to graph as a node"
   ]
  },
  {
   "cell_type": "code",
   "execution_count": 6,
   "metadata": {
    "scrolled": true
   },
   "outputs": [
    {
     "name": "stdout",
     "output_type": "stream",
     "text": [
      "BFS : 1 -> 2 -> 3 -> 4 -> 5 -> 8 -> 9 -> 6 -> 10 -> 7\n",
      "DFS : 1 -> 2 -> 4 -> 5 -> 6 -> 7 -> 8 -> 9 -> 10 -> 3\n"
     ]
    }
   ],
   "source": [
    "print(\"BFS :\",end=' ')\n",
    "printFormated(bfs(graph, root))\n",
    "print(\"DFS :\",end=' ')\n",
    "printFormated(dfs(graph, root))"
   ]
  },
  {
   "cell_type": "raw",
   "metadata": {},
   "source": [
    "Results of both DFS and BFS"
   ]
  },
  {
   "cell_type": "markdown",
   "metadata": {},
   "source": [
    "# Soru 2"
   ]
  },
  {
   "cell_type": "raw",
   "metadata": {},
   "source": [
    "Best case of nim game is O(1). if we choose m = n-2 , we apply the rule n mod m+1 != 0.\n",
    "Worst case of nim game is omega(n). if we choose n = 100 and m = 2 , the game ends maximum n/2 steps.So worst case is omega(n) (omega(n/2))"
   ]
  },
  {
   "cell_type": "code",
   "execution_count": 7,
   "metadata": {},
   "outputs": [],
   "source": [
    "import random\n",
    "\n",
    "def nim( _n , _m , player):\n",
    "\tif _n <= 0:\n",
    "\t\tif player == 1:\n",
    "\t\t\treturn 2\n",
    "\t\telse:\n",
    "\t\t\treturn 1\t\n",
    "\ttakenChip = random.randint(1,_m)\n",
    "\tprint(\"n :\",_n,\"  player \",player,\" takes \",takenChip,\" chip\")\n",
    "\tif player == 1:\n",
    "\t\treturn nim(_n - takenChip, takenChip , 2)\n",
    "\telif player == 2 :\n",
    "\t\treturn nim(_n - takenChip, takenChip , 1)"
   ]
  },
  {
   "cell_type": "raw",
   "metadata": {},
   "source": [
    "nim inputs: _n as a int.Its total number of chip on desk\n",
    "            _m as a int.How many chips players takes own turn\n",
    "            player represent players numbers\n",
    "returns which player is winner.\n",
    "\n",
    "Each iteration represents a player turn and every iteration.\n",
    "End of iterations ,if a player takes last chip, he/she is winner.\n",
    "Each iteration shown on the screen.\n",
    "# Debug ederken oyuncular için hamleleri klavyeden girmemek için random olarak\n",
    "# 1 ile m arasında bir sayı oluşturarak toplam çipten çıkarttım.\n",
    "# takemChip yerine klavyeden input alarak kullanıcıların istediği kadar\n",
    "# çip seçebilmesi sağlanabilir.Bu yapılır ise if check ile m den küçük girilmesi\n",
    "# kontrol edilmelidir.Klavyeden tek tek girmek istemediğim için random sayı\n",
    "# ürettirip kullandım."
   ]
  },
  {
   "cell_type": "code",
   "execution_count": 8,
   "metadata": {},
   "outputs": [
    {
     "name": "stdout",
     "output_type": "stream",
     "text": [
      "n : 10   player  1  takes  2  chip\n",
      "n : 8   player  2  takes  1  chip\n",
      "n : 7   player  1  takes  1  chip\n",
      "n : 6   player  2  takes  1  chip\n",
      "n : 5   player  1  takes  1  chip\n",
      "n : 4   player  2  takes  1  chip\n",
      "n : 3   player  1  takes  1  chip\n",
      "n : 2   player  2  takes  1  chip\n",
      "n : 1   player  1  takes  1  chip\n",
      "1\n"
     ]
    }
   ],
   "source": [
    "n = 10 # total chips\n",
    "m = 2  # how many chips players takes own turn\n",
    "whoSturn = 1 # which player is start the game\n",
    "\n",
    "if n%(m+1) != 0:\n",
    "\tprint(nim(n ,m ,whoSturn )) # shows the winner\n",
    "else:\n",
    "\tprint(\"An error occured where initialize n and m.\")"
   ]
  },
  {
   "cell_type": "raw",
   "metadata": {},
   "source": [
    "initialize m , n and who is start the game.\n",
    "Checking n mod m+1 != 0. if it is true starts the function, else printing a error message"
   ]
  },
  {
   "cell_type": "markdown",
   "metadata": {},
   "source": [
    "# Soru 3"
   ]
  },
  {
   "cell_type": "raw",
   "metadata": {},
   "source": [
    "It is running like binary search.So , the complexity of method in the question 3 is same as binary search algorithm.\n",
    "Best case is O(1)\n",
    "Average case is O(logn)\n",
    "Worst case is O(logn)"
   ]
  },
  {
   "cell_type": "code",
   "execution_count": 9,
   "metadata": {},
   "outputs": [],
   "source": [
    "import math\n",
    "\n",
    "def q3Helper(liste,lmin,lmax):\n",
    "\tmid = math.floor((lmax + lmin)/2)\n",
    "\tif mid == liste[mid]:\n",
    "\t\treturn mid\n",
    "\telif mid >= lmax or mid <= lmin:\n",
    "\t\treturn -1\n",
    "\telse:\n",
    "\t\t\n",
    "\t\ts = q3Helper(liste,lmin,mid)\n",
    "\t\tb = q3Helper(liste,mid,lmax)\n",
    "\t\tif(s >= b):\n",
    "\t\t\treturn s\n",
    "\t\telse:\n",
    "\t\t\treturn b\n",
    "\n",
    "def q3(listeq3):\n",
    "\treturn q3Helper(listeq3,0,len(listeq3))\n"
   ]
  },
  {
   "cell_type": "raw",
   "metadata": {},
   "source": [
    "q3Helper inputs : liste is a list which holds sorted integers\n",
    "                  lmin is a integer.It represent minimum index of subarray\n",
    "                  lmax is a integer.It represent maximum index of subarray\n",
    "return : if output is a number besides of -1 , it exactly find list[i] = i\n",
    "         else if output is -1 , there is no list[i] = i\n",
    "\n",
    "q3 inputs : listeq3 is a list.\n",
    "return : same as q3Helper .\n",
    "This method using q3Helper.\n",
    "\n",
    "Algorithm of q3Helper is devide-and-conquer algorithm. It is comparing middle element with middle element's index.\n",
    "if middle element with its index are equal ,return index.Otherwise , it is checks fail case and calls itself with each list which dividing to sublists."
   ]
  },
  {
   "cell_type": "code",
   "execution_count": 10,
   "metadata": {
    "scrolled": true
   },
   "outputs": [
    {
     "name": "stdout",
     "output_type": "stream",
     "text": [
      "0\n",
      "1\n",
      "2\n",
      "3\n",
      "4\n",
      "5\n",
      "-1\n"
     ]
    }
   ],
   "source": [
    "a = [0,2,4,6,8]\n",
    "b = [-1,1,4,6,8,10]\n",
    "c = [-1,1,2,10]\n",
    "d = [-4,-2,0,3,8,10]\n",
    "e = [-1,0,1,2,4,10]\n",
    "f = [-1,0,1,2,3,5]\n",
    "g = [10,20,30,40,50,60]\n",
    "\n",
    "for i in a,b,c,d,e,f,g:\n",
    "\tprint(q3(i))"
   ]
  },
  {
   "cell_type": "raw",
   "metadata": {},
   "source": [
    "Some inputs and results.\n",
    "-1 is fail and others are right."
   ]
  },
  {
   "cell_type": "markdown",
   "metadata": {},
   "source": [
    "# Soru 4"
   ]
  },
  {
   "cell_type": "raw",
   "metadata": {},
   "source": [
    "The algorithm dividing list to each element of list.Each element is comparing sums of preceding and following elements. Returns lagest sum of sublist.\n",
    "\n",
    "Complexity of algorithm:\n",
    "Best case is O(1). if list has only one element.\n",
    "Worst case is O(n*n). Dividing list to each element and each element traverse all list for each element. All elements are positive.\n",
    "\n",
    "# Recursive olarak listeyi surekli bolerek tek elemana kadar getiriyor\n",
    "# indiriyor.Secilen elemandan itibaren saga ve sola giderek bir liste \n",
    "# olusturuyor.Bu listenin elemanlarinin toplamı digerlerinden buyuk ise\n",
    "# return ediliyor.\n",
    "# Divide&conquer olsa bile butun elemanlara baktıgından\n",
    "# n kere rList metodu calisacak.\n",
    "# Liste elemanlari hepsi pozitif degerler olursa\n",
    "# butun elemanlar icin liste surekli taranacak.\n",
    "# bu yuzden worst case: O(n*n)"
   ]
  },
  {
   "cell_type": "code",
   "execution_count": 11,
   "metadata": {},
   "outputs": [],
   "source": [
    "def rList(listex,i):\n",
    "    bound = float('-inf')\n",
    "    tempList = []\n",
    "    _sum = 0\n",
    "    j = i+1\n",
    "    \n",
    "    while(i > -1 and bound < _sum + listex[i]):\n",
    "        _sum = _sum + listex[i]\n",
    "        bound = _sum\n",
    "        tempList.append(listex[i])\n",
    "        i = i-1\n",
    "        \n",
    "    tempList = tempList[::-1]\n",
    "    while(j < len(listex) and bound < _sum + listex[j]):\n",
    "        _sum = _sum + listex[j]\n",
    "        bound = _sum\n",
    "        tempList.append(listex[j])\n",
    "        j = j+1\n",
    "        \n",
    "    return tempList"
   ]
  },
  {
   "cell_type": "raw",
   "metadata": {},
   "source": [
    "rList inputs : listex is a list.\n",
    "               i is a integer. Index of element wanted to find sum of following and preceding.\n",
    "This is helper method but it does all job. Bound is minus infinity and sum is zero. sum is compares with sum+preceding elements. if sum plus preceding elements are larger than sum , that element added to different list.\n",
    "Same as following elements.The list occured in the method returns."
   ]
  },
  {
   "cell_type": "code",
   "execution_count": 12,
   "metadata": {},
   "outputs": [],
   "source": [
    "def max_subarray_finder(param_liste,l,r):\n",
    "    if(r-l == 1):\n",
    "        return rList(liste,l)\n",
    "    else:\n",
    "        m = (int)((l+r)/2)\n",
    "        l = max_subarray_finder(param_liste,l,m)\n",
    "        r = max_subarray_finder(param_liste,m,r)\n",
    "    \n",
    "        if(sum(l) <= sum(r)):\n",
    "            return r\n",
    "        else:\n",
    "            return l"
   ]
  },
  {
   "cell_type": "raw",
   "metadata": {},
   "source": [
    "max_subarray_finder inputs: param_liste is a list holds integers.\n",
    "       l is first index of list.\n",
    "       r is last index of list.\n",
    "returns sum of subarray\n",
    "\n",
    "rList returns the largest sublist surrounding each elements. This method is comparing all results of rList method and returns the largest one.\n",
    "\n",
    "# Her eleman için rList'ten toplamları en büyük sublist geliyor. Bu sublistleri karşılaştırarak büyük olanı\n",
    "# recursive olarak return ediyor."
   ]
  },
  {
   "cell_type": "code",
   "execution_count": 13,
   "metadata": {},
   "outputs": [
    {
     "name": "stdout",
     "output_type": "stream",
     "text": [
      "[6, 7, -6, 7]\n",
      "14\n"
     ]
    }
   ],
   "source": [
    "liste = [5, -6, 6, 7, -6, 7, -4, 3]\n",
    "\n",
    "print(max_subarray_finder(liste,0,len(liste)))\n",
    "print(sum(max_subarray_finder(liste,0,len(liste))))"
   ]
  },
  {
   "cell_type": "raw",
   "metadata": {},
   "source": [
    "Result of max_subarray_finder and its summation."
   ]
  },
  {
   "cell_type": "markdown",
   "metadata": {},
   "source": [
    "# Soru 5"
   ]
  },
  {
   "cell_type": "raw",
   "metadata": {},
   "source": [
    "The problem in this question is a string valid or not valid according to a pattern.\n",
    "Time complexity of solution:\n",
    "Best case is O(1). If pattern has only one letter and valid.\n",
    "Worst case is O(n) which is lenght of pattern.\n",
    "This is simple string matching problem."
   ]
  },
  {
   "cell_type": "code",
   "execution_count": 14,
   "metadata": {},
   "outputs": [],
   "source": [
    "import string\n",
    "def q5(_string,_patternList):\n",
    "\tcheck = False\n",
    "\tpattern = \"\"\n",
    "\tfor i in _patternList:\n",
    "\t\tif i.lower() in _string[0:len(i)].lower():\n",
    "\t\t\tpattern += string.ascii_uppercase[_patternList.index(i)]\n",
    "\t\t\treturn pattern + q5(_string[len(i):],_patternList)\n",
    "\t\t\tcheck = True\n",
    "\t\t\tbreak\n",
    "\tif check == False:\n",
    "\t\treturn pattern\n"
   ]
  },
  {
   "cell_type": "raw",
   "metadata": {},
   "source": [
    "q5 inputs _string : _string is a string which wanted to valid\n",
    "          _patternList: _patternList as a list which holds pattern parts\n",
    "returns pattern : pattern consist of letters which occured by _patternList's elements\n",
    "\n",
    "The method scans _string's first i elements matches with _patternList elements, if match any element of _patternList's element , add the letter to pattern and recall the method with rest of _string.\n",
    "\n",
    "# patternlist'teki elemanları _string'te ilk eşlesene bakıyor. Bulduğunda patterndeki indexini alıp\n",
    "# bu index'e büyük harflerin olduğu listeden bulup patterne ekliyor.\n",
    "# sonra bu pattern ile kalan stringi tekrar çağırıp sonuçları toplatıyor.\n",
    "# en son kalan patternı return ediyor.\n"
   ]
  },
  {
   "cell_type": "code",
   "execution_count": 15,
   "metadata": {},
   "outputs": [],
   "source": [
    "word = \"ToBeornottoBe\"\n",
    "word2 = \"aliatabakatabakali\"\n",
    "patternList = [\"to\",\"be\",\"or\",\"not\"]\n",
    "patternList2 = [\"ali\",\"ata\",\"bak\"]\n",
    "pattern = \"ABCDAB\"\n",
    "pattern2 = \"ABCBCA\""
   ]
  },
  {
   "cell_type": "raw",
   "metadata": {},
   "source": [
    "there are two sample string and pattern list."
   ]
  },
  {
   "cell_type": "code",
   "execution_count": 16,
   "metadata": {},
   "outputs": [
    {
     "name": "stdout",
     "output_type": "stream",
     "text": [
      "ABCBCA is valid on aliatabakatabakali\n"
     ]
    }
   ],
   "source": [
    "if pattern2 == q5(word2,patternList2):\n",
    "\tprint(pattern2,\"is valid on\",word2)\n",
    "else:\n",
    "\tprint(pattern2,\"is NOT valid on\",word2)\n"
   ]
  }
 ],
 "metadata": {
  "kernelspec": {
   "display_name": "Python 3",
   "language": "python",
   "name": "python3"
  },
  "language_info": {
   "codemirror_mode": {
    "name": "ipython",
    "version": 3
   },
   "file_extension": ".py",
   "mimetype": "text/x-python",
   "name": "python",
   "nbconvert_exporter": "python",
   "pygments_lexer": "ipython3",
   "version": "3.6.6"
  }
 },
 "nbformat": 4,
 "nbformat_minor": 2
}
